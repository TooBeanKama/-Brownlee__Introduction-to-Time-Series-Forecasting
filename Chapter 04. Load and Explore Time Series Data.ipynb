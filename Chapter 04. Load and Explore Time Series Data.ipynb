{
 "cells": [
  {
   "cell_type": "markdown",
   "id": "67b3406d",
   "metadata": {},
   "source": [
    "Introduction to Time Series Forecasting with Python by Jason Brownlee\n",
    "\n",
    "Chapter 04.\n",
    "---\n",
    "Load and Explore Time Series Data\n",
    "---\n",
    "\n",
    "После этой главы я буду знать:\n",
    "+ Как загрузить time-series dataset из CSV файла используя Pandas\n",
    "+ Как просмотреть загруженные данные и выполнить запрос, используя date-times\n",
    "+ Как вычислить и посмотреть сводную статистику"
   ]
  },
  {
   "cell_type": "markdown",
   "id": "5ca0c6bb",
   "metadata": {},
   "source": [
    "Узнал новое:\n",
    "---\n",
    "+ Запросы по метке конкретного месяца: если датасет из дневных данных, то по метке месяца можно получить данные за конкретный месяц\n",
    "+ как с помощью `squeeze` преобразовать датафрейм в Series, если у нас только один столбец значений"
   ]
  },
  {
   "cell_type": "markdown",
   "id": "3d54259a",
   "metadata": {},
   "source": [
    "4.1 Daily Female Births Dataset\n",
    "---\n",
    "Этот датасет содержит количество рождений девочек в Калифорнии в 1959 году"
   ]
  },
  {
   "cell_type": "code",
   "execution_count": 12,
   "id": "dc5f0700",
   "metadata": {},
   "outputs": [],
   "source": [
    "file = r'datasets/daily-total-female-births.csv'"
   ]
  },
  {
   "cell_type": "markdown",
   "id": "0c4ba8e7",
   "metadata": {},
   "source": [
    "4.2 Load Time Series Data\n",
    "---\n",
    "+ Pandas наборы данных временных рядов как Series\n",
    "+ Series  - это одномерный массив у которого есть временная метка для каждой строки"
   ]
  },
  {
   "cell_type": "code",
   "execution_count": 13,
   "id": "51b2e086",
   "metadata": {},
   "outputs": [
    {
     "name": "stdout",
     "output_type": "stream",
     "text": [
      "<class 'pandas.core.series.Series'>\n"
     ]
    },
    {
     "data": {
      "text/plain": [
       "Date\n",
       "1959-01-01    35\n",
       "1959-01-02    32\n",
       "1959-01-03    30\n",
       "1959-01-04    31\n",
       "1959-01-05    44\n",
       "Name: Births, dtype: int64"
      ]
     },
     "metadata": {},
     "output_type": "display_data"
    }
   ],
   "source": [
    "# загружаем датасет используя функцию read_csv()\n",
    "\n",
    "import pandas as pd\n",
    "series = pd.read_csv(file, header=0,\n",
    "                     index_col=0, parse_dates=True).squeeze()\n",
    "\n",
    "print(type(series))\n",
    "display(series.head())"
   ]
  },
  {
   "cell_type": "markdown",
   "id": "41d0192e",
   "metadata": {},
   "source": [
    "Пояснения по параметрам функции `read_csv`:\n",
    "---\n",
    "+ `header=0` - указываем, что заголовок находится в строке 0\n",
    "+ `parse_dates=True` - Мы даем функции подсказку, что данные в первом столбце содержат даты, которые необходимо проанализировать (спарсить)\n",
    "+ `index_col=0` - мы указываем, что индексы для нашего временного ряда содержатся в столбце 0\n",
    "+ `.squeeze()` - Мы указываем, что у нас есть только один столбец данных и что нас интересуют Series, а не DataFrame."
   ]
  },
  {
   "cell_type": "markdown",
   "id": "9ec3c7bd",
   "metadata": {},
   "source": [
    "4.3 Exploring Time Series Data\n",
    "---\n",
    "\n",
    "4.3.1 Посмотрим на данные\n",
    "---\n",
    "+ посмотреть на первые 10 наблюдений\n",
    "+ посмотреть на последние 10 наблюдений"
   ]
  },
  {
   "cell_type": "code",
   "execution_count": 15,
   "id": "f0ae5ee4",
   "metadata": {},
   "outputs": [
    {
     "name": "stdout",
     "output_type": "stream",
     "text": [
      "Date\n",
      "1959-01-01    35\n",
      "1959-01-02    32\n",
      "1959-01-03    30\n",
      "1959-01-04    31\n",
      "1959-01-05    44\n",
      "1959-01-06    29\n",
      "1959-01-07    45\n",
      "1959-01-08    43\n",
      "1959-01-09    38\n",
      "1959-01-10    27\n",
      "Name: Births, dtype: int64\n"
     ]
    }
   ],
   "source": [
    "print(series.head(10))"
   ]
  },
  {
   "cell_type": "code",
   "execution_count": 16,
   "id": "d90a7a59",
   "metadata": {},
   "outputs": [
    {
     "name": "stdout",
     "output_type": "stream",
     "text": [
      "Date\n",
      "1959-12-22    39\n",
      "1959-12-23    40\n",
      "1959-12-24    38\n",
      "1959-12-25    44\n",
      "1959-12-26    34\n",
      "1959-12-27    37\n",
      "1959-12-28    52\n",
      "1959-12-29    48\n",
      "1959-12-30    55\n",
      "1959-12-31    50\n",
      "Name: Births, dtype: int64\n"
     ]
    }
   ],
   "source": [
    "print(series.tail(10))"
   ]
  },
  {
   "cell_type": "markdown",
   "id": "2c7380dc",
   "metadata": {},
   "source": [
    "4.3.2 Number of Observations\n",
    "---\n",
    "+ `size` - количество наблюдений"
   ]
  },
  {
   "cell_type": "code",
   "execution_count": 17,
   "id": "6b53336f",
   "metadata": {},
   "outputs": [
    {
     "data": {
      "text/plain": [
       "365"
      ]
     },
     "execution_count": 17,
     "metadata": {},
     "output_type": "execute_result"
    }
   ],
   "source": [
    "series.size"
   ]
  },
  {
   "cell_type": "markdown",
   "id": "287947fb",
   "metadata": {},
   "source": [
    "4.3.3 Querying By Time\n",
    "---\n",
    "+ Запросы по метке конкретной даты"
   ]
  },
  {
   "cell_type": "code",
   "execution_count": 18,
   "id": "fa20e5cd",
   "metadata": {},
   "outputs": [
    {
     "data": {
      "text/plain": [
       "34"
      ]
     },
     "execution_count": 18,
     "metadata": {},
     "output_type": "execute_result"
    }
   ],
   "source": [
    "series['1959-12-26']"
   ]
  },
  {
   "cell_type": "markdown",
   "id": "290ca3e1",
   "metadata": {},
   "source": [
    "+ Запросы по метке конкретного месяца"
   ]
  },
  {
   "cell_type": "code",
   "execution_count": 19,
   "id": "e985b820",
   "metadata": {},
   "outputs": [
    {
     "data": {
      "text/plain": [
       "Date\n",
       "1959-12-01    45\n",
       "1959-12-02    32\n",
       "1959-12-03    46\n",
       "1959-12-04    41\n",
       "1959-12-05    34\n",
       "1959-12-06    33\n",
       "1959-12-07    36\n",
       "1959-12-08    49\n",
       "1959-12-09    43\n",
       "1959-12-10    43\n",
       "1959-12-11    34\n",
       "1959-12-12    39\n",
       "1959-12-13    35\n",
       "1959-12-14    52\n",
       "1959-12-15    47\n",
       "1959-12-16    52\n",
       "1959-12-17    39\n",
       "1959-12-18    40\n",
       "1959-12-19    42\n",
       "1959-12-20    42\n",
       "1959-12-21    53\n",
       "1959-12-22    39\n",
       "1959-12-23    40\n",
       "1959-12-24    38\n",
       "1959-12-25    44\n",
       "1959-12-26    34\n",
       "1959-12-27    37\n",
       "1959-12-28    52\n",
       "1959-12-29    48\n",
       "1959-12-30    55\n",
       "1959-12-31    50\n",
       "Name: Births, dtype: int64"
      ]
     },
     "execution_count": 19,
     "metadata": {},
     "output_type": "execute_result"
    }
   ],
   "source": [
    "series['1959-12']"
   ]
  },
  {
   "cell_type": "code",
   "execution_count": 21,
   "id": "95846bba",
   "metadata": {},
   "outputs": [
    {
     "data": {
      "text/plain": [
       "Date\n",
       "1959-11-01    48\n",
       "1959-11-02    49\n",
       "1959-11-03    43\n",
       "1959-11-04    42\n",
       "1959-11-05    59\n",
       "1959-11-06    45\n",
       "1959-11-07    52\n",
       "1959-11-08    46\n",
       "1959-11-09    42\n",
       "1959-11-10    40\n",
       "1959-11-11    40\n",
       "1959-11-12    45\n",
       "1959-11-13    35\n",
       "1959-11-14    35\n",
       "1959-11-15    40\n",
       "1959-11-16    39\n",
       "1959-11-17    33\n",
       "1959-11-18    42\n",
       "1959-11-19    47\n",
       "1959-11-20    51\n",
       "1959-11-21    44\n",
       "1959-11-22    40\n",
       "1959-11-23    57\n",
       "1959-11-24    49\n",
       "1959-11-25    45\n",
       "1959-11-26    49\n",
       "1959-11-27    51\n",
       "1959-11-28    46\n",
       "1959-11-29    44\n",
       "1959-11-30    52\n",
       "Name: Births, dtype: int64"
      ]
     },
     "execution_count": 21,
     "metadata": {},
     "output_type": "execute_result"
    }
   ],
   "source": [
    "month = 11\n",
    "series[f'1959-{month}']"
   ]
  },
  {
   "cell_type": "markdown",
   "id": "17af3316",
   "metadata": {},
   "source": [
    "+ Запросы по метке конкретного года"
   ]
  },
  {
   "cell_type": "code",
   "execution_count": 20,
   "id": "5fae5f58",
   "metadata": {},
   "outputs": [
    {
     "data": {
      "text/plain": [
       "Date\n",
       "1959-01-01    35\n",
       "1959-01-02    32\n",
       "1959-01-03    30\n",
       "1959-01-04    31\n",
       "1959-01-05    44\n",
       "              ..\n",
       "1959-12-27    37\n",
       "1959-12-28    52\n",
       "1959-12-29    48\n",
       "1959-12-30    55\n",
       "1959-12-31    50\n",
       "Name: Births, Length: 365, dtype: int64"
      ]
     },
     "execution_count": 20,
     "metadata": {},
     "output_type": "execute_result"
    }
   ],
   "source": [
    "series['1959']"
   ]
  },
  {
   "cell_type": "markdown",
   "id": "0711ab31",
   "metadata": {},
   "source": [
    "4.3.4 Descriptive Statistics\n",
    "---\n",
    "Расчет описательной статистики для вашего временного ряда может помочь получить представление о распределении и распространение (distribution and spread) значений\n",
    "+ `describe`"
   ]
  },
  {
   "cell_type": "code",
   "execution_count": 23,
   "id": "77b448c8",
   "metadata": {},
   "outputs": [
    {
     "data": {
      "text/plain": [
       "count    365.000000\n",
       "mean      41.980822\n",
       "std        7.348257\n",
       "min       23.000000\n",
       "25%       37.000000\n",
       "50%       42.000000\n",
       "75%       46.000000\n",
       "max       73.000000\n",
       "Name: Births, dtype: float64"
      ]
     },
     "execution_count": 23,
     "metadata": {},
     "output_type": "execute_result"
    }
   ],
   "source": [
    "series.describe()"
   ]
  }
 ],
 "metadata": {
  "kernelspec": {
   "display_name": "Python 3 (ipykernel)",
   "language": "python",
   "name": "python3"
  },
  "language_info": {
   "codemirror_mode": {
    "name": "ipython",
    "version": 3
   },
   "file_extension": ".py",
   "mimetype": "text/x-python",
   "name": "python",
   "nbconvert_exporter": "python",
   "pygments_lexer": "ipython3",
   "version": "3.11.4"
  }
 },
 "nbformat": 4,
 "nbformat_minor": 5
}
