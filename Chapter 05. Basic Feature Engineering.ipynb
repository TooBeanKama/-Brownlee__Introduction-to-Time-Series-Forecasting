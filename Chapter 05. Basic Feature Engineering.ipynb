{
 "cells": [
  {
   "cell_type": "markdown",
   "id": "08c380d0",
   "metadata": {},
   "source": [
    "Introduction to Time Series Forecasting with Python by Jason Brownlee\n",
    "\n",
    "Chapter 05\n",
    "---\n",
    "Basic Feature Engineering\n",
    "---\n",
    "\n",
    "Прежде чем мы сможем начать использовать алгоритмы машинного обучения, данные временных рядов должны быть преобразованы в набор данных supervised learning. \n",
    "\n",
    "Во временных рядах нет понятия входных и выходных признаков. \n",
    "\n",
    "Вместо этого мы должны выбрать переменную, которую нужно спрогнозировать, и использовать feature engineering для создания всех inputs данных, которые будут использоваться для прогнозирования будущих time steps.\n",
    "\n",
    "После этой главы я буду знать:\n",
    "---\n",
    "+ Обоснование и цели feature engineering для  временных рядов \n",
    "+ Как разработать базовые date-time based input признаки\n",
    "+ Как разработать более сложные лаговые и sliding window сводные статистические признаки"
   ]
  },
  {
   "cell_type": "markdown",
   "id": "8fb8d256",
   "metadata": {},
   "source": [
    "5.1 Feature Engineering for Time Series\n",
    "---\n",
    "+ Набор данных временных рядов необходимо преобразовать, чтобы его можно было смоделировать как задачу обучения с учителем.\n",
    "\n",
    "Можно выделить **три** класса признаков, которые мы можем построить на основе нашего датасета:\n",
    "+ Date Time Features: это компоненты самого временного шага для каждого наблюдения.\n",
    "+ Lag Features: это значения на предыдущих временных шагах.\n",
    "+ Window Features: это сводка значений в фиксированном окне предыдущих временных шагов"
   ]
  },
  {
   "cell_type": "markdown",
   "id": "2a71c534",
   "metadata": {},
   "source": [
    "5.2 Цели конструирования признаков (Feature Engineering)\n",
    "---\n",
    "\n",
    "Цель Feature Engineering — **обеспечить прочные и идеально простые связи между новыми входными признаками и выходными признаками** для моделирования алгоритмом обучения с учителем. \n",
    "\n",
    "По сути, мы двигаемся по сложности (complexity). \n",
    "+ Complexity (сложность) существует во взаимоотношениях между входными и выходными данными. \n",
    "\n",
    "В случае временных рядов **нет понятия входных и выходных переменных**; \n",
    "\n",
    "Мы также должны изобрести их и сформулировать проблему контролируемого обучения с нуля. \n",
    "\n",
    "Мы можем положиться на способность сложных (sophisticated) моделей понять всю сложность (complexity) проблемы. \n",
    "\n",
    "Мы можем упростить работу с этими моделями (и даже использовать более простые модели), если сможем лучше выявить внутреннюю взаимосвязь между входными и выходными данными в данных.\n",
    "\n",
    "Трудность заключается в том, что **мы не знаем основных функциональных отношений между входными и выходными данными, которые мы пытаемся раскрыть**. \n",
    "\n",
    "\n",
    "Если бы мы знали, нам, вероятно, не понадобилось бы машинное обучение. \n",
    "\n",
    "Вместо этого единственная обратная связь, которую мы имеем, — это **эффективность моделей, разработанных на основе наборов данных supervising learning**, или представления о проблеме, которую мы создаем. \n",
    "\n",
    "В действительности, лучшая стратегия по умолчанию — использовать все доступные знания для создания множества хороших наборов данных из вашего набора данных временных рядов и использовать model performance (и другие требования проекта), чтобы помочь определить, какие хорошие функции и хорошие представления о вашей проблеме оказываются."
   ]
  },
  {
   "cell_type": "markdown",
   "id": "9ca2cf83",
   "metadata": {},
   "source": [
    "5.3 Minimum Daily Temperatures Dataset\n",
    "---\n",
    "https://github.com/jbrownlee/Datasets/tree/master\n",
    "\n",
    "Датасет содержит данные о минимальных дневных температурахза 10 лет (1981-1990) в Мельбурне, Австралия"
   ]
  },
  {
   "cell_type": "code",
   "execution_count": 90,
   "id": "818ba112",
   "metadata": {},
   "outputs": [],
   "source": [
    "file = 'datasets/daily-min-temperatures.csv'"
   ]
  },
  {
   "cell_type": "markdown",
   "id": "4d895cdd",
   "metadata": {},
   "source": [
    "5.4 Date Time Features\n",
    "---\n",
    "\n",
    "+  Загружаем датасет как Series\n",
    "+ создаем датафрейм, в который помещаем данные из Series"
   ]
  },
  {
   "cell_type": "code",
   "execution_count": 91,
   "id": "3f0c2769",
   "metadata": {},
   "outputs": [
    {
     "name": "stdout",
     "output_type": "stream",
     "text": [
      "<class 'pandas.core.series.Series'>\n"
     ]
    },
    {
     "data": {
      "text/plain": [
       "Date\n",
       "1981-01-01    20.7\n",
       "1981-01-02    17.9\n",
       "1981-01-03    18.8\n",
       "1981-01-04    14.6\n",
       "1981-01-05    15.8\n",
       "Name: Temp, dtype: float64"
      ]
     },
     "execution_count": 91,
     "metadata": {},
     "output_type": "execute_result"
    }
   ],
   "source": [
    "import pandas as pd\n",
    "\n",
    "series = pd.read_csv(file, header=0, index_col=0,\n",
    "                    parse_dates=True).squeeze()\n",
    "\n",
    "print(type(series))\n",
    "series.head()"
   ]
  },
  {
   "cell_type": "code",
   "execution_count": 92,
   "id": "4e7b326b",
   "metadata": {},
   "outputs": [
    {
     "data": {
      "text/plain": [
       "20.7"
      ]
     },
     "execution_count": 92,
     "metadata": {},
     "output_type": "execute_result"
    }
   ],
   "source": [
    "# к элементам series удобно обращаться по индексу\n",
    "series['1981-01-01']"
   ]
  },
  {
   "cell_type": "code",
   "execution_count": 93,
   "id": "b963a085",
   "metadata": {},
   "outputs": [
    {
     "data": {
      "text/plain": [
       "3650"
      ]
     },
     "execution_count": 93,
     "metadata": {},
     "output_type": "execute_result"
    }
   ],
   "source": [
    "series.shape[0]"
   ]
  },
  {
   "cell_type": "code",
   "execution_count": 94,
   "id": "f416e8fa",
   "metadata": {},
   "outputs": [
    {
     "data": {
      "text/plain": [
       "3650"
      ]
     },
     "execution_count": 94,
     "metadata": {},
     "output_type": "execute_result"
    }
   ],
   "source": [
    "len(series)"
   ]
  },
  {
   "cell_type": "code",
   "execution_count": 95,
   "id": "84fe3fea",
   "metadata": {},
   "outputs": [
    {
     "data": {
      "text/plain": [
       "DatetimeIndex(['1981-01-01', '1981-01-02', '1981-01-03', '1981-01-04',\n",
       "               '1981-01-05', '1981-01-06', '1981-01-07', '1981-01-08',\n",
       "               '1981-01-09', '1981-01-10',\n",
       "               ...\n",
       "               '1990-12-22', '1990-12-23', '1990-12-24', '1990-12-25',\n",
       "               '1990-12-26', '1990-12-27', '1990-12-28', '1990-12-29',\n",
       "               '1990-12-30', '1990-12-31'],\n",
       "              dtype='datetime64[ns]', name='Date', length=3650, freq=None)"
      ]
     },
     "execution_count": 95,
     "metadata": {},
     "output_type": "execute_result"
    }
   ],
   "source": [
    "series.index"
   ]
  },
  {
   "cell_type": "code",
   "execution_count": 96,
   "id": "30e29839",
   "metadata": {},
   "outputs": [
    {
     "data": {
      "text/plain": [
       "Timestamp('1981-01-02 00:00:00')"
      ]
     },
     "execution_count": 96,
     "metadata": {},
     "output_type": "execute_result"
    }
   ],
   "source": [
    "series.index[1]"
   ]
  },
  {
   "cell_type": "code",
   "execution_count": 97,
   "id": "26d0c84d",
   "metadata": {},
   "outputs": [
    {
     "data": {
      "text/plain": [
       "1"
      ]
     },
     "execution_count": 97,
     "metadata": {},
     "output_type": "execute_result"
    }
   ],
   "source": [
    "series.index[1].month"
   ]
  },
  {
   "cell_type": "code",
   "execution_count": 98,
   "id": "0b161896",
   "metadata": {},
   "outputs": [
    {
     "data": {
      "text/html": [
       "<div>\n",
       "<style scoped>\n",
       "    .dataframe tbody tr th:only-of-type {\n",
       "        vertical-align: middle;\n",
       "    }\n",
       "\n",
       "    .dataframe tbody tr th {\n",
       "        vertical-align: top;\n",
       "    }\n",
       "\n",
       "    .dataframe thead th {\n",
       "        text-align: right;\n",
       "    }\n",
       "</style>\n",
       "<table border=\"1\" class=\"dataframe\">\n",
       "  <thead>\n",
       "    <tr style=\"text-align: right;\">\n",
       "      <th></th>\n",
       "    </tr>\n",
       "  </thead>\n",
       "  <tbody>\n",
       "  </tbody>\n",
       "</table>\n",
       "</div>"
      ],
      "text/plain": [
       "Empty DataFrame\n",
       "Columns: []\n",
       "Index: []"
      ]
     },
     "execution_count": 98,
     "metadata": {},
     "output_type": "execute_result"
    }
   ],
   "source": [
    "# создаем датафрейм\n",
    "dataframe = pd.DataFrame()\n",
    "dataframe"
   ]
  },
  {
   "cell_type": "code",
   "execution_count": 99,
   "id": "ca095cd6",
   "metadata": {},
   "outputs": [
    {
     "data": {
      "text/html": [
       "<div>\n",
       "<style scoped>\n",
       "    .dataframe tbody tr th:only-of-type {\n",
       "        vertical-align: middle;\n",
       "    }\n",
       "\n",
       "    .dataframe tbody tr th {\n",
       "        vertical-align: top;\n",
       "    }\n",
       "\n",
       "    .dataframe thead th {\n",
       "        text-align: right;\n",
       "    }\n",
       "</style>\n",
       "<table border=\"1\" class=\"dataframe\">\n",
       "  <thead>\n",
       "    <tr style=\"text-align: right;\">\n",
       "      <th></th>\n",
       "      <th>month</th>\n",
       "    </tr>\n",
       "  </thead>\n",
       "  <tbody>\n",
       "    <tr>\n",
       "      <th>0</th>\n",
       "      <td>1</td>\n",
       "    </tr>\n",
       "    <tr>\n",
       "      <th>1</th>\n",
       "      <td>1</td>\n",
       "    </tr>\n",
       "    <tr>\n",
       "      <th>2</th>\n",
       "      <td>1</td>\n",
       "    </tr>\n",
       "    <tr>\n",
       "      <th>3</th>\n",
       "      <td>1</td>\n",
       "    </tr>\n",
       "    <tr>\n",
       "      <th>4</th>\n",
       "      <td>1</td>\n",
       "    </tr>\n",
       "    <tr>\n",
       "      <th>...</th>\n",
       "      <td>...</td>\n",
       "    </tr>\n",
       "    <tr>\n",
       "      <th>3645</th>\n",
       "      <td>12</td>\n",
       "    </tr>\n",
       "    <tr>\n",
       "      <th>3646</th>\n",
       "      <td>12</td>\n",
       "    </tr>\n",
       "    <tr>\n",
       "      <th>3647</th>\n",
       "      <td>12</td>\n",
       "    </tr>\n",
       "    <tr>\n",
       "      <th>3648</th>\n",
       "      <td>12</td>\n",
       "    </tr>\n",
       "    <tr>\n",
       "      <th>3649</th>\n",
       "      <td>12</td>\n",
       "    </tr>\n",
       "  </tbody>\n",
       "</table>\n",
       "<p>3650 rows × 1 columns</p>\n",
       "</div>"
      ],
      "text/plain": [
       "      month\n",
       "0         1\n",
       "1         1\n",
       "2         1\n",
       "3         1\n",
       "4         1\n",
       "...     ...\n",
       "3645     12\n",
       "3646     12\n",
       "3647     12\n",
       "3648     12\n",
       "3649     12\n",
       "\n",
       "[3650 rows x 1 columns]"
      ]
     },
     "execution_count": 99,
     "metadata": {},
     "output_type": "execute_result"
    }
   ],
   "source": [
    "# создаем столбец с номером месяца\n",
    "dataframe['month'] = [series.index[i].month for i in range(len(series))]\n",
    "dataframe"
   ]
  },
  {
   "cell_type": "code",
   "execution_count": 100,
   "id": "616971e8",
   "metadata": {},
   "outputs": [
    {
     "data": {
      "text/html": [
       "<div>\n",
       "<style scoped>\n",
       "    .dataframe tbody tr th:only-of-type {\n",
       "        vertical-align: middle;\n",
       "    }\n",
       "\n",
       "    .dataframe tbody tr th {\n",
       "        vertical-align: top;\n",
       "    }\n",
       "\n",
       "    .dataframe thead th {\n",
       "        text-align: right;\n",
       "    }\n",
       "</style>\n",
       "<table border=\"1\" class=\"dataframe\">\n",
       "  <thead>\n",
       "    <tr style=\"text-align: right;\">\n",
       "      <th></th>\n",
       "      <th>month</th>\n",
       "      <th>day</th>\n",
       "    </tr>\n",
       "  </thead>\n",
       "  <tbody>\n",
       "    <tr>\n",
       "      <th>0</th>\n",
       "      <td>1</td>\n",
       "      <td>1</td>\n",
       "    </tr>\n",
       "    <tr>\n",
       "      <th>1</th>\n",
       "      <td>1</td>\n",
       "      <td>2</td>\n",
       "    </tr>\n",
       "    <tr>\n",
       "      <th>2</th>\n",
       "      <td>1</td>\n",
       "      <td>3</td>\n",
       "    </tr>\n",
       "    <tr>\n",
       "      <th>3</th>\n",
       "      <td>1</td>\n",
       "      <td>4</td>\n",
       "    </tr>\n",
       "    <tr>\n",
       "      <th>4</th>\n",
       "      <td>1</td>\n",
       "      <td>5</td>\n",
       "    </tr>\n",
       "    <tr>\n",
       "      <th>...</th>\n",
       "      <td>...</td>\n",
       "      <td>...</td>\n",
       "    </tr>\n",
       "    <tr>\n",
       "      <th>3645</th>\n",
       "      <td>12</td>\n",
       "      <td>27</td>\n",
       "    </tr>\n",
       "    <tr>\n",
       "      <th>3646</th>\n",
       "      <td>12</td>\n",
       "      <td>28</td>\n",
       "    </tr>\n",
       "    <tr>\n",
       "      <th>3647</th>\n",
       "      <td>12</td>\n",
       "      <td>29</td>\n",
       "    </tr>\n",
       "    <tr>\n",
       "      <th>3648</th>\n",
       "      <td>12</td>\n",
       "      <td>30</td>\n",
       "    </tr>\n",
       "    <tr>\n",
       "      <th>3649</th>\n",
       "      <td>12</td>\n",
       "      <td>31</td>\n",
       "    </tr>\n",
       "  </tbody>\n",
       "</table>\n",
       "<p>3650 rows × 2 columns</p>\n",
       "</div>"
      ],
      "text/plain": [
       "      month  day\n",
       "0         1    1\n",
       "1         1    2\n",
       "2         1    3\n",
       "3         1    4\n",
       "4         1    5\n",
       "...     ...  ...\n",
       "3645     12   27\n",
       "3646     12   28\n",
       "3647     12   29\n",
       "3648     12   30\n",
       "3649     12   31\n",
       "\n",
       "[3650 rows x 2 columns]"
      ]
     },
     "execution_count": 100,
     "metadata": {},
     "output_type": "execute_result"
    }
   ],
   "source": [
    "# создаем столбец, в который помещаем номер дня\n",
    "dataframe['day'] = [series.index[i].day for i in range(len(series))]\n",
    "dataframe"
   ]
  },
  {
   "cell_type": "code",
   "execution_count": 101,
   "id": "1a483832",
   "metadata": {},
   "outputs": [
    {
     "data": {
      "text/html": [
       "<div>\n",
       "<style scoped>\n",
       "    .dataframe tbody tr th:only-of-type {\n",
       "        vertical-align: middle;\n",
       "    }\n",
       "\n",
       "    .dataframe tbody tr th {\n",
       "        vertical-align: top;\n",
       "    }\n",
       "\n",
       "    .dataframe thead th {\n",
       "        text-align: right;\n",
       "    }\n",
       "</style>\n",
       "<table border=\"1\" class=\"dataframe\">\n",
       "  <thead>\n",
       "    <tr style=\"text-align: right;\">\n",
       "      <th></th>\n",
       "      <th>month</th>\n",
       "      <th>day</th>\n",
       "      <th>temperature</th>\n",
       "    </tr>\n",
       "  </thead>\n",
       "  <tbody>\n",
       "    <tr>\n",
       "      <th>0</th>\n",
       "      <td>1</td>\n",
       "      <td>1</td>\n",
       "      <td>20.7</td>\n",
       "    </tr>\n",
       "    <tr>\n",
       "      <th>1</th>\n",
       "      <td>1</td>\n",
       "      <td>2</td>\n",
       "      <td>17.9</td>\n",
       "    </tr>\n",
       "    <tr>\n",
       "      <th>2</th>\n",
       "      <td>1</td>\n",
       "      <td>3</td>\n",
       "      <td>18.8</td>\n",
       "    </tr>\n",
       "    <tr>\n",
       "      <th>3</th>\n",
       "      <td>1</td>\n",
       "      <td>4</td>\n",
       "      <td>14.6</td>\n",
       "    </tr>\n",
       "    <tr>\n",
       "      <th>4</th>\n",
       "      <td>1</td>\n",
       "      <td>5</td>\n",
       "      <td>15.8</td>\n",
       "    </tr>\n",
       "    <tr>\n",
       "      <th>...</th>\n",
       "      <td>...</td>\n",
       "      <td>...</td>\n",
       "      <td>...</td>\n",
       "    </tr>\n",
       "    <tr>\n",
       "      <th>3645</th>\n",
       "      <td>12</td>\n",
       "      <td>27</td>\n",
       "      <td>14.0</td>\n",
       "    </tr>\n",
       "    <tr>\n",
       "      <th>3646</th>\n",
       "      <td>12</td>\n",
       "      <td>28</td>\n",
       "      <td>13.6</td>\n",
       "    </tr>\n",
       "    <tr>\n",
       "      <th>3647</th>\n",
       "      <td>12</td>\n",
       "      <td>29</td>\n",
       "      <td>13.5</td>\n",
       "    </tr>\n",
       "    <tr>\n",
       "      <th>3648</th>\n",
       "      <td>12</td>\n",
       "      <td>30</td>\n",
       "      <td>15.7</td>\n",
       "    </tr>\n",
       "    <tr>\n",
       "      <th>3649</th>\n",
       "      <td>12</td>\n",
       "      <td>31</td>\n",
       "      <td>13.0</td>\n",
       "    </tr>\n",
       "  </tbody>\n",
       "</table>\n",
       "<p>3650 rows × 3 columns</p>\n",
       "</div>"
      ],
      "text/plain": [
       "      month  day  temperature\n",
       "0         1    1         20.7\n",
       "1         1    2         17.9\n",
       "2         1    3         18.8\n",
       "3         1    4         14.6\n",
       "4         1    5         15.8\n",
       "...     ...  ...          ...\n",
       "3645     12   27         14.0\n",
       "3646     12   28         13.6\n",
       "3647     12   29         13.5\n",
       "3648     12   30         15.7\n",
       "3649     12   31         13.0\n",
       "\n",
       "[3650 rows x 3 columns]"
      ]
     },
     "execution_count": 101,
     "metadata": {},
     "output_type": "execute_result"
    }
   ],
   "source": [
    "# создаем столбец, в который помещаем значения темпереатуры\n",
    "dataframe['temperature'] = [series.iloc[i] for i in range(len(series))]\n",
    "dataframe"
   ]
  },
  {
   "cell_type": "markdown",
   "id": "1ab1d15f",
   "metadata": {},
   "source": [
    "Мы можем перечислить все свойства time-stamp и рассмотреть их как потенциально полезные для нашей задачи:\n",
    "+ Minutes elapsed for the day: количество прошедших минут\n",
    "+ Hour of day.\n",
    "+ Business hours or not.\n",
    "+ Weekend or not.\n",
    "+  Season of the year.\n",
    "+  Business quarter of the year.\n",
    "+  Daylight savings or not.\n",
    "+  Public holiday or not.\n",
    "+  Leap year or not."
   ]
  },
  {
   "cell_type": "markdown",
   "id": "3bfd8ee4",
   "metadata": {},
   "source": [
    "5.5 Lag Features\n",
    "---\n",
    "+ `shift()`"
   ]
  },
  {
   "cell_type": "code",
   "execution_count": 102,
   "id": "dbad995c",
   "metadata": {},
   "outputs": [
    {
     "data": {
      "text/html": [
       "<div>\n",
       "<style scoped>\n",
       "    .dataframe tbody tr th:only-of-type {\n",
       "        vertical-align: middle;\n",
       "    }\n",
       "\n",
       "    .dataframe tbody tr th {\n",
       "        vertical-align: top;\n",
       "    }\n",
       "\n",
       "    .dataframe thead th {\n",
       "        text-align: right;\n",
       "    }\n",
       "</style>\n",
       "<table border=\"1\" class=\"dataframe\">\n",
       "  <thead>\n",
       "    <tr style=\"text-align: right;\">\n",
       "      <th></th>\n",
       "      <th>month</th>\n",
       "      <th>day</th>\n",
       "      <th>temperature</th>\n",
       "      <th>Lag 1</th>\n",
       "    </tr>\n",
       "  </thead>\n",
       "  <tbody>\n",
       "    <tr>\n",
       "      <th>0</th>\n",
       "      <td>1</td>\n",
       "      <td>1</td>\n",
       "      <td>20.7</td>\n",
       "      <td>NaN</td>\n",
       "    </tr>\n",
       "    <tr>\n",
       "      <th>1</th>\n",
       "      <td>1</td>\n",
       "      <td>2</td>\n",
       "      <td>17.9</td>\n",
       "      <td>20.7</td>\n",
       "    </tr>\n",
       "    <tr>\n",
       "      <th>2</th>\n",
       "      <td>1</td>\n",
       "      <td>3</td>\n",
       "      <td>18.8</td>\n",
       "      <td>17.9</td>\n",
       "    </tr>\n",
       "    <tr>\n",
       "      <th>3</th>\n",
       "      <td>1</td>\n",
       "      <td>4</td>\n",
       "      <td>14.6</td>\n",
       "      <td>18.8</td>\n",
       "    </tr>\n",
       "    <tr>\n",
       "      <th>4</th>\n",
       "      <td>1</td>\n",
       "      <td>5</td>\n",
       "      <td>15.8</td>\n",
       "      <td>14.6</td>\n",
       "    </tr>\n",
       "    <tr>\n",
       "      <th>...</th>\n",
       "      <td>...</td>\n",
       "      <td>...</td>\n",
       "      <td>...</td>\n",
       "      <td>...</td>\n",
       "    </tr>\n",
       "    <tr>\n",
       "      <th>3645</th>\n",
       "      <td>12</td>\n",
       "      <td>27</td>\n",
       "      <td>14.0</td>\n",
       "      <td>14.6</td>\n",
       "    </tr>\n",
       "    <tr>\n",
       "      <th>3646</th>\n",
       "      <td>12</td>\n",
       "      <td>28</td>\n",
       "      <td>13.6</td>\n",
       "      <td>14.0</td>\n",
       "    </tr>\n",
       "    <tr>\n",
       "      <th>3647</th>\n",
       "      <td>12</td>\n",
       "      <td>29</td>\n",
       "      <td>13.5</td>\n",
       "      <td>13.6</td>\n",
       "    </tr>\n",
       "    <tr>\n",
       "      <th>3648</th>\n",
       "      <td>12</td>\n",
       "      <td>30</td>\n",
       "      <td>15.7</td>\n",
       "      <td>13.5</td>\n",
       "    </tr>\n",
       "    <tr>\n",
       "      <th>3649</th>\n",
       "      <td>12</td>\n",
       "      <td>31</td>\n",
       "      <td>13.0</td>\n",
       "      <td>15.7</td>\n",
       "    </tr>\n",
       "  </tbody>\n",
       "</table>\n",
       "<p>3650 rows × 4 columns</p>\n",
       "</div>"
      ],
      "text/plain": [
       "      month  day  temperature  Lag 1\n",
       "0         1    1         20.7    NaN\n",
       "1         1    2         17.9   20.7\n",
       "2         1    3         18.8   17.9\n",
       "3         1    4         14.6   18.8\n",
       "4         1    5         15.8   14.6\n",
       "...     ...  ...          ...    ...\n",
       "3645     12   27         14.0   14.6\n",
       "3646     12   28         13.6   14.0\n",
       "3647     12   29         13.5   13.6\n",
       "3648     12   30         15.7   13.5\n",
       "3649     12   31         13.0   15.7\n",
       "\n",
       "[3650 rows x 4 columns]"
      ]
     },
     "execution_count": 102,
     "metadata": {},
     "output_type": "execute_result"
    }
   ],
   "source": [
    "dataframe['Lag 1'] = dataframe['temperature'].shift(1)\n",
    "dataframe"
   ]
  },
  {
   "cell_type": "markdown",
   "id": "5f84c9b5",
   "metadata": {},
   "source": [
    "+ Как видите, нам придется отбросить первую строку, чтобы использовать набор данных для обучения моделипоскольку он не содержит достаточного количества данных для работы (есть Nan).\n",
    "\n",
    "+ Добавление запаздывающих признаков (лагов) называется методом скользящего окна (**sliding window method**), в данном случае с шириной окна, равной 1. \n",
    "+ Это как если бы мы перемещали фокус по временному ряду для каждого наблюдения, интересуясь только тем, что находится в пределах ширины окна. \n",
    "+ Мы можем расширить ширину окна и включить больше лаггированных признаков. "
   ]
  },
  {
   "cell_type": "code",
   "execution_count": 103,
   "id": "7ebd1a61",
   "metadata": {},
   "outputs": [
    {
     "data": {
      "text/html": [
       "<div>\n",
       "<style scoped>\n",
       "    .dataframe tbody tr th:only-of-type {\n",
       "        vertical-align: middle;\n",
       "    }\n",
       "\n",
       "    .dataframe tbody tr th {\n",
       "        vertical-align: top;\n",
       "    }\n",
       "\n",
       "    .dataframe thead th {\n",
       "        text-align: right;\n",
       "    }\n",
       "</style>\n",
       "<table border=\"1\" class=\"dataframe\">\n",
       "  <thead>\n",
       "    <tr style=\"text-align: right;\">\n",
       "      <th></th>\n",
       "      <th>t</th>\n",
       "    </tr>\n",
       "  </thead>\n",
       "  <tbody>\n",
       "    <tr>\n",
       "      <th>0</th>\n",
       "      <td>20.7</td>\n",
       "    </tr>\n",
       "    <tr>\n",
       "      <th>1</th>\n",
       "      <td>17.9</td>\n",
       "    </tr>\n",
       "    <tr>\n",
       "      <th>2</th>\n",
       "      <td>18.8</td>\n",
       "    </tr>\n",
       "    <tr>\n",
       "      <th>3</th>\n",
       "      <td>14.6</td>\n",
       "    </tr>\n",
       "    <tr>\n",
       "      <th>4</th>\n",
       "      <td>15.8</td>\n",
       "    </tr>\n",
       "  </tbody>\n",
       "</table>\n",
       "</div>"
      ],
      "text/plain": [
       "      t\n",
       "0  20.7\n",
       "1  17.9\n",
       "2  18.8\n",
       "3  14.6\n",
       "4  15.8"
      ]
     },
     "execution_count": 103,
     "metadata": {},
     "output_type": "execute_result"
    }
   ],
   "source": [
    "series = pd.read_csv(file, header=0, index_col=0, \n",
    "                    parse_dates=True).squeeze()\n",
    "df = pd.DataFrame()\n",
    "df['t'] = [series.iloc[i] for i in range(len(series))]\n",
    "df.head()"
   ]
  },
  {
   "cell_type": "code",
   "execution_count": 104,
   "id": "5f55b90e",
   "metadata": {},
   "outputs": [
    {
     "data": {
      "text/html": [
       "<div>\n",
       "<style scoped>\n",
       "    .dataframe tbody tr th:only-of-type {\n",
       "        vertical-align: middle;\n",
       "    }\n",
       "\n",
       "    .dataframe tbody tr th {\n",
       "        vertical-align: top;\n",
       "    }\n",
       "\n",
       "    .dataframe thead th {\n",
       "        text-align: right;\n",
       "    }\n",
       "</style>\n",
       "<table border=\"1\" class=\"dataframe\">\n",
       "  <thead>\n",
       "    <tr style=\"text-align: right;\">\n",
       "      <th></th>\n",
       "      <th>t</th>\n",
       "      <th>Lag 1</th>\n",
       "    </tr>\n",
       "  </thead>\n",
       "  <tbody>\n",
       "    <tr>\n",
       "      <th>0</th>\n",
       "      <td>20.7</td>\n",
       "      <td>NaN</td>\n",
       "    </tr>\n",
       "    <tr>\n",
       "      <th>1</th>\n",
       "      <td>17.9</td>\n",
       "      <td>20.7</td>\n",
       "    </tr>\n",
       "    <tr>\n",
       "      <th>2</th>\n",
       "      <td>18.8</td>\n",
       "      <td>17.9</td>\n",
       "    </tr>\n",
       "    <tr>\n",
       "      <th>3</th>\n",
       "      <td>14.6</td>\n",
       "      <td>18.8</td>\n",
       "    </tr>\n",
       "    <tr>\n",
       "      <th>4</th>\n",
       "      <td>15.8</td>\n",
       "      <td>14.6</td>\n",
       "    </tr>\n",
       "  </tbody>\n",
       "</table>\n",
       "</div>"
      ],
      "text/plain": [
       "      t  Lag 1\n",
       "0  20.7    NaN\n",
       "1  17.9   20.7\n",
       "2  18.8   17.9\n",
       "3  14.6   18.8\n",
       "4  15.8   14.6"
      ]
     },
     "execution_count": 104,
     "metadata": {},
     "output_type": "execute_result"
    }
   ],
   "source": [
    "df['Lag 1'] = df['t'].shift(1)\n",
    "df.head()"
   ]
  },
  {
   "cell_type": "code",
   "execution_count": 105,
   "id": "e58de613",
   "metadata": {},
   "outputs": [
    {
     "data": {
      "text/html": [
       "<div>\n",
       "<style scoped>\n",
       "    .dataframe tbody tr th:only-of-type {\n",
       "        vertical-align: middle;\n",
       "    }\n",
       "\n",
       "    .dataframe tbody tr th {\n",
       "        vertical-align: top;\n",
       "    }\n",
       "\n",
       "    .dataframe thead th {\n",
       "        text-align: right;\n",
       "    }\n",
       "</style>\n",
       "<table border=\"1\" class=\"dataframe\">\n",
       "  <thead>\n",
       "    <tr style=\"text-align: right;\">\n",
       "      <th></th>\n",
       "      <th>0</th>\n",
       "    </tr>\n",
       "  </thead>\n",
       "  <tbody>\n",
       "    <tr>\n",
       "      <th>0</th>\n",
       "      <td>20.7</td>\n",
       "    </tr>\n",
       "    <tr>\n",
       "      <th>1</th>\n",
       "      <td>17.9</td>\n",
       "    </tr>\n",
       "    <tr>\n",
       "      <th>2</th>\n",
       "      <td>18.8</td>\n",
       "    </tr>\n",
       "    <tr>\n",
       "      <th>3</th>\n",
       "      <td>14.6</td>\n",
       "    </tr>\n",
       "    <tr>\n",
       "      <th>4</th>\n",
       "      <td>15.8</td>\n",
       "    </tr>\n",
       "  </tbody>\n",
       "</table>\n",
       "</div>"
      ],
      "text/plain": [
       "      0\n",
       "0  20.7\n",
       "1  17.9\n",
       "2  18.8\n",
       "3  14.6\n",
       "4  15.8"
      ]
     },
     "execution_count": 105,
     "metadata": {},
     "output_type": "execute_result"
    }
   ],
   "source": [
    "temps = pd.DataFrame(series.values)\n",
    "temps.head()"
   ]
  },
  {
   "cell_type": "code",
   "execution_count": 106,
   "id": "60360ca2",
   "metadata": {},
   "outputs": [
    {
     "data": {
      "text/html": [
       "<div>\n",
       "<style scoped>\n",
       "    .dataframe tbody tr th:only-of-type {\n",
       "        vertical-align: middle;\n",
       "    }\n",
       "\n",
       "    .dataframe tbody tr th {\n",
       "        vertical-align: top;\n",
       "    }\n",
       "\n",
       "    .dataframe thead th {\n",
       "        text-align: right;\n",
       "    }\n",
       "</style>\n",
       "<table border=\"1\" class=\"dataframe\">\n",
       "  <thead>\n",
       "    <tr style=\"text-align: right;\">\n",
       "      <th></th>\n",
       "      <th>t</th>\n",
       "      <th>t+1</th>\n",
       "    </tr>\n",
       "  </thead>\n",
       "  <tbody>\n",
       "    <tr>\n",
       "      <th>0</th>\n",
       "      <td>NaN</td>\n",
       "      <td>20.7</td>\n",
       "    </tr>\n",
       "    <tr>\n",
       "      <th>1</th>\n",
       "      <td>20.7</td>\n",
       "      <td>17.9</td>\n",
       "    </tr>\n",
       "    <tr>\n",
       "      <th>2</th>\n",
       "      <td>17.9</td>\n",
       "      <td>18.8</td>\n",
       "    </tr>\n",
       "    <tr>\n",
       "      <th>3</th>\n",
       "      <td>18.8</td>\n",
       "      <td>14.6</td>\n",
       "    </tr>\n",
       "    <tr>\n",
       "      <th>4</th>\n",
       "      <td>14.6</td>\n",
       "      <td>15.8</td>\n",
       "    </tr>\n",
       "  </tbody>\n",
       "</table>\n",
       "</div>"
      ],
      "text/plain": [
       "      t   t+1\n",
       "0   NaN  20.7\n",
       "1  20.7  17.9\n",
       "2  17.9  18.8\n",
       "3  18.8  14.6\n",
       "4  14.6  15.8"
      ]
     },
     "execution_count": 106,
     "metadata": {},
     "output_type": "execute_result"
    }
   ],
   "source": [
    "df2 = pd.concat([temps.shift(1), temps], axis=1)\n",
    "df2.columns = ['t', 't+1']\n",
    "df2.head()"
   ]
  },
  {
   "cell_type": "code",
   "execution_count": 107,
   "id": "bce21415",
   "metadata": {},
   "outputs": [
    {
     "data": {
      "text/html": [
       "<div>\n",
       "<style scoped>\n",
       "    .dataframe tbody tr th:only-of-type {\n",
       "        vertical-align: middle;\n",
       "    }\n",
       "\n",
       "    .dataframe tbody tr th {\n",
       "        vertical-align: top;\n",
       "    }\n",
       "\n",
       "    .dataframe thead th {\n",
       "        text-align: right;\n",
       "    }\n",
       "</style>\n",
       "<table border=\"1\" class=\"dataframe\">\n",
       "  <thead>\n",
       "    <tr style=\"text-align: right;\">\n",
       "      <th></th>\n",
       "      <th>t</th>\n",
       "      <th>Lag_1</th>\n",
       "      <th>Lag_2</th>\n",
       "      <th>Lag_3</th>\n",
       "    </tr>\n",
       "  </thead>\n",
       "  <tbody>\n",
       "    <tr>\n",
       "      <th>0</th>\n",
       "      <td>20.7</td>\n",
       "      <td>NaN</td>\n",
       "      <td>NaN</td>\n",
       "      <td>NaN</td>\n",
       "    </tr>\n",
       "    <tr>\n",
       "      <th>1</th>\n",
       "      <td>17.9</td>\n",
       "      <td>20.7</td>\n",
       "      <td>NaN</td>\n",
       "      <td>NaN</td>\n",
       "    </tr>\n",
       "    <tr>\n",
       "      <th>2</th>\n",
       "      <td>18.8</td>\n",
       "      <td>17.9</td>\n",
       "      <td>20.7</td>\n",
       "      <td>NaN</td>\n",
       "    </tr>\n",
       "    <tr>\n",
       "      <th>3</th>\n",
       "      <td>14.6</td>\n",
       "      <td>18.8</td>\n",
       "      <td>17.9</td>\n",
       "      <td>20.7</td>\n",
       "    </tr>\n",
       "    <tr>\n",
       "      <th>4</th>\n",
       "      <td>15.8</td>\n",
       "      <td>14.6</td>\n",
       "      <td>18.8</td>\n",
       "      <td>17.9</td>\n",
       "    </tr>\n",
       "  </tbody>\n",
       "</table>\n",
       "</div>"
      ],
      "text/plain": [
       "      t  Lag_1  Lag_2  Lag_3\n",
       "0  20.7    NaN    NaN    NaN\n",
       "1  17.9   20.7    NaN    NaN\n",
       "2  18.8   17.9   20.7    NaN\n",
       "3  14.6   18.8   17.9   20.7\n",
       "4  15.8   14.6   18.8   17.9"
      ]
     },
     "execution_count": 107,
     "metadata": {},
     "output_type": "execute_result"
    }
   ],
   "source": [
    "series = pd.read_csv(file, header=0, index_col=0, \n",
    "                    parse_dates=True).squeeze()\n",
    "df = pd.DataFrame()\n",
    "df['t'] = [series.iloc[i] for i in range(len(series))]\n",
    "for lag in range(1,4):\n",
    "    df[f'Lag_{lag}'] = df['t'].shift(lag)\n",
    "df.head()"
   ]
  },
  {
   "cell_type": "markdown",
   "id": "44ab5504",
   "metadata": {},
   "source": [
    "+ Вы можете видеть, что мы должны отбросить первые несколько строк, в которых недостаточно данных (есть NaN).\n",
    "+ Трудность при использовании метода скользящего окна заключается в том, насколько велико окно для решения вашей проблемы. \n",
    "+ Возможно, хорошей отправной точкой будет выполнить анализ чувствительности и попробовать набор окон различной ширины, чтобы, в свою очередь, создать набор различных представлений вашего набора данных и посмотреть, какие из них приводят к более эффективной работе моделей. "
   ]
  },
  {
   "cell_type": "markdown",
   "id": "d1df32ba",
   "metadata": {},
   "source": [
    "+ Кроме того, зачем останавливаться на линейном окне? \n",
    "+ Возможно, вам нужно лаговое значение за прошлую неделю, последний месяц и прошлый год. Это зависит от специфики предметной области\n",
    "+ В случае набора температурных данных может оказаться полезным лагированные значения с того же дня в предыдущем году или в предыдущие несколько лет. \n",
    "+ С окном мы можем сделать больше, чем просто включить необработанные значения."
   ]
  },
  {
   "cell_type": "markdown",
   "id": "5f157efe",
   "metadata": {},
   "source": [
    "5.6 Rolling Window Statistics\n",
    "---\n",
    "+ Скользщие статистики: скользящее среднее и т.д.\n",
    "+ `rolling()`  - создает скользящее окно\n",
    "+ рассчитываем статистику по этому скользящему окну\n",
    "\n",
    "`rolling` нужно применять вместе с лаггированием!"
   ]
  },
  {
   "cell_type": "code",
   "execution_count": 108,
   "id": "faed1133",
   "metadata": {},
   "outputs": [
    {
     "data": {
      "text/html": [
       "<div>\n",
       "<style scoped>\n",
       "    .dataframe tbody tr th:only-of-type {\n",
       "        vertical-align: middle;\n",
       "    }\n",
       "\n",
       "    .dataframe tbody tr th {\n",
       "        vertical-align: top;\n",
       "    }\n",
       "\n",
       "    .dataframe thead th {\n",
       "        text-align: right;\n",
       "    }\n",
       "</style>\n",
       "<table border=\"1\" class=\"dataframe\">\n",
       "  <thead>\n",
       "    <tr style=\"text-align: right;\">\n",
       "      <th></th>\n",
       "      <th>t</th>\n",
       "    </tr>\n",
       "  </thead>\n",
       "  <tbody>\n",
       "    <tr>\n",
       "      <th>0</th>\n",
       "      <td>20.7</td>\n",
       "    </tr>\n",
       "    <tr>\n",
       "      <th>1</th>\n",
       "      <td>17.9</td>\n",
       "    </tr>\n",
       "    <tr>\n",
       "      <th>2</th>\n",
       "      <td>18.8</td>\n",
       "    </tr>\n",
       "    <tr>\n",
       "      <th>3</th>\n",
       "      <td>14.6</td>\n",
       "    </tr>\n",
       "    <tr>\n",
       "      <th>4</th>\n",
       "      <td>15.8</td>\n",
       "    </tr>\n",
       "  </tbody>\n",
       "</table>\n",
       "</div>"
      ],
      "text/plain": [
       "      t\n",
       "0  20.7\n",
       "1  17.9\n",
       "2  18.8\n",
       "3  14.6\n",
       "4  15.8"
      ]
     },
     "execution_count": 108,
     "metadata": {},
     "output_type": "execute_result"
    }
   ],
   "source": [
    "series = pd.read_csv(file, header=0, index_col=0, \n",
    "                    parse_dates=True).squeeze()\n",
    "df = pd.DataFrame()\n",
    "df['t'] = [series.iloc[i] for i in range(len(series))]\n",
    "df.head()"
   ]
  },
  {
   "cell_type": "code",
   "execution_count": 109,
   "id": "0efba18f",
   "metadata": {},
   "outputs": [
    {
     "data": {
      "text/plain": [
       "'temps'"
      ]
     },
     "metadata": {},
     "output_type": "display_data"
    },
    {
     "data": {
      "text/html": [
       "<div>\n",
       "<style scoped>\n",
       "    .dataframe tbody tr th:only-of-type {\n",
       "        vertical-align: middle;\n",
       "    }\n",
       "\n",
       "    .dataframe tbody tr th {\n",
       "        vertical-align: top;\n",
       "    }\n",
       "\n",
       "    .dataframe thead th {\n",
       "        text-align: right;\n",
       "    }\n",
       "</style>\n",
       "<table border=\"1\" class=\"dataframe\">\n",
       "  <thead>\n",
       "    <tr style=\"text-align: right;\">\n",
       "      <th></th>\n",
       "      <th>0</th>\n",
       "    </tr>\n",
       "  </thead>\n",
       "  <tbody>\n",
       "    <tr>\n",
       "      <th>0</th>\n",
       "      <td>20.7</td>\n",
       "    </tr>\n",
       "    <tr>\n",
       "      <th>1</th>\n",
       "      <td>17.9</td>\n",
       "    </tr>\n",
       "    <tr>\n",
       "      <th>2</th>\n",
       "      <td>18.8</td>\n",
       "    </tr>\n",
       "    <tr>\n",
       "      <th>3</th>\n",
       "      <td>14.6</td>\n",
       "    </tr>\n",
       "    <tr>\n",
       "      <th>4</th>\n",
       "      <td>15.8</td>\n",
       "    </tr>\n",
       "  </tbody>\n",
       "</table>\n",
       "</div>"
      ],
      "text/plain": [
       "      0\n",
       "0  20.7\n",
       "1  17.9\n",
       "2  18.8\n",
       "3  14.6\n",
       "4  15.8"
      ]
     },
     "metadata": {},
     "output_type": "display_data"
    },
    {
     "data": {
      "text/plain": [
       "'shifted'"
      ]
     },
     "metadata": {},
     "output_type": "display_data"
    },
    {
     "data": {
      "text/html": [
       "<div>\n",
       "<style scoped>\n",
       "    .dataframe tbody tr th:only-of-type {\n",
       "        vertical-align: middle;\n",
       "    }\n",
       "\n",
       "    .dataframe tbody tr th {\n",
       "        vertical-align: top;\n",
       "    }\n",
       "\n",
       "    .dataframe thead th {\n",
       "        text-align: right;\n",
       "    }\n",
       "</style>\n",
       "<table border=\"1\" class=\"dataframe\">\n",
       "  <thead>\n",
       "    <tr style=\"text-align: right;\">\n",
       "      <th></th>\n",
       "      <th>0</th>\n",
       "    </tr>\n",
       "  </thead>\n",
       "  <tbody>\n",
       "    <tr>\n",
       "      <th>0</th>\n",
       "      <td>NaN</td>\n",
       "    </tr>\n",
       "    <tr>\n",
       "      <th>1</th>\n",
       "      <td>NaN</td>\n",
       "    </tr>\n",
       "    <tr>\n",
       "      <th>2</th>\n",
       "      <td>20.7</td>\n",
       "    </tr>\n",
       "    <tr>\n",
       "      <th>3</th>\n",
       "      <td>17.9</td>\n",
       "    </tr>\n",
       "    <tr>\n",
       "      <th>4</th>\n",
       "      <td>18.8</td>\n",
       "    </tr>\n",
       "  </tbody>\n",
       "</table>\n",
       "</div>"
      ],
      "text/plain": [
       "      0\n",
       "0   NaN\n",
       "1   NaN\n",
       "2  20.7\n",
       "3  17.9\n",
       "4  18.8"
      ]
     },
     "metadata": {},
     "output_type": "display_data"
    },
    {
     "data": {
      "text/plain": [
       "'window'"
      ]
     },
     "metadata": {},
     "output_type": "display_data"
    },
    {
     "data": {
      "text/plain": [
       "Rolling [window=3,center=False,axis=0,method=single]"
      ]
     },
     "metadata": {},
     "output_type": "display_data"
    }
   ],
   "source": [
    "series = pd.read_csv(file, header=0, index_col=0, \n",
    "                    parse_dates=True).squeeze()\n",
    "temps = pd.DataFrame(series.values)\n",
    "display(\"temps\", temps.head())\n",
    "\n",
    "\n",
    "\n",
    "width = 3\n",
    "shifted = temps.shift(width - 1)\n",
    "display('shifted', shifted.head())\n",
    "\n",
    "window = shifted.rolling(window=width)\n",
    "display('window', window)"
   ]
  },
  {
   "cell_type": "code",
   "execution_count": 110,
   "id": "8f5295d7",
   "metadata": {},
   "outputs": [
    {
     "data": {
      "text/html": [
       "<div>\n",
       "<style scoped>\n",
       "    .dataframe tbody tr th:only-of-type {\n",
       "        vertical-align: middle;\n",
       "    }\n",
       "\n",
       "    .dataframe tbody tr th {\n",
       "        vertical-align: top;\n",
       "    }\n",
       "\n",
       "    .dataframe thead th {\n",
       "        text-align: right;\n",
       "    }\n",
       "</style>\n",
       "<table border=\"1\" class=\"dataframe\">\n",
       "  <thead>\n",
       "    <tr style=\"text-align: right;\">\n",
       "      <th></th>\n",
       "      <th>min</th>\n",
       "      <th>mean</th>\n",
       "      <th>max</th>\n",
       "      <th>t</th>\n",
       "    </tr>\n",
       "  </thead>\n",
       "  <tbody>\n",
       "    <tr>\n",
       "      <th>0</th>\n",
       "      <td>NaN</td>\n",
       "      <td>NaN</td>\n",
       "      <td>NaN</td>\n",
       "      <td>20.7</td>\n",
       "    </tr>\n",
       "    <tr>\n",
       "      <th>1</th>\n",
       "      <td>NaN</td>\n",
       "      <td>NaN</td>\n",
       "      <td>NaN</td>\n",
       "      <td>17.9</td>\n",
       "    </tr>\n",
       "    <tr>\n",
       "      <th>2</th>\n",
       "      <td>NaN</td>\n",
       "      <td>NaN</td>\n",
       "      <td>NaN</td>\n",
       "      <td>18.8</td>\n",
       "    </tr>\n",
       "    <tr>\n",
       "      <th>3</th>\n",
       "      <td>NaN</td>\n",
       "      <td>NaN</td>\n",
       "      <td>NaN</td>\n",
       "      <td>14.6</td>\n",
       "    </tr>\n",
       "    <tr>\n",
       "      <th>4</th>\n",
       "      <td>17.9</td>\n",
       "      <td>19.133333</td>\n",
       "      <td>20.7</td>\n",
       "      <td>15.8</td>\n",
       "    </tr>\n",
       "    <tr>\n",
       "      <th>5</th>\n",
       "      <td>14.6</td>\n",
       "      <td>17.100000</td>\n",
       "      <td>18.8</td>\n",
       "      <td>15.8</td>\n",
       "    </tr>\n",
       "    <tr>\n",
       "      <th>6</th>\n",
       "      <td>14.6</td>\n",
       "      <td>16.400000</td>\n",
       "      <td>18.8</td>\n",
       "      <td>15.8</td>\n",
       "    </tr>\n",
       "    <tr>\n",
       "      <th>7</th>\n",
       "      <td>14.6</td>\n",
       "      <td>15.400000</td>\n",
       "      <td>15.8</td>\n",
       "      <td>17.4</td>\n",
       "    </tr>\n",
       "    <tr>\n",
       "      <th>8</th>\n",
       "      <td>15.8</td>\n",
       "      <td>15.800000</td>\n",
       "      <td>15.8</td>\n",
       "      <td>21.8</td>\n",
       "    </tr>\n",
       "    <tr>\n",
       "      <th>9</th>\n",
       "      <td>15.8</td>\n",
       "      <td>16.333333</td>\n",
       "      <td>17.4</td>\n",
       "      <td>20.0</td>\n",
       "    </tr>\n",
       "  </tbody>\n",
       "</table>\n",
       "</div>"
      ],
      "text/plain": [
       "    min       mean   max     t\n",
       "0   NaN        NaN   NaN  20.7\n",
       "1   NaN        NaN   NaN  17.9\n",
       "2   NaN        NaN   NaN  18.8\n",
       "3   NaN        NaN   NaN  14.6\n",
       "4  17.9  19.133333  20.7  15.8\n",
       "5  14.6  17.100000  18.8  15.8\n",
       "6  14.6  16.400000  18.8  15.8\n",
       "7  14.6  15.400000  15.8  17.4\n",
       "8  15.8  15.800000  15.8  21.8\n",
       "9  15.8  16.333333  17.4  20.0"
      ]
     },
     "execution_count": 110,
     "metadata": {},
     "output_type": "execute_result"
    }
   ],
   "source": [
    "dataframe = pd.concat([window.min(), window.mean(), \n",
    "                       window.max(), temps],\n",
    "                     axis=1)\n",
    "dataframe.columns = ['min', 'mean', 'max', 't']\n",
    "\n",
    "dataframe.head(10)"
   ]
  },
  {
   "cell_type": "code",
   "execution_count": 111,
   "id": "5c51bd3c",
   "metadata": {},
   "outputs": [
    {
     "data": {
      "text/html": [
       "<div>\n",
       "<style scoped>\n",
       "    .dataframe tbody tr th:only-of-type {\n",
       "        vertical-align: middle;\n",
       "    }\n",
       "\n",
       "    .dataframe tbody tr th {\n",
       "        vertical-align: top;\n",
       "    }\n",
       "\n",
       "    .dataframe thead th {\n",
       "        text-align: right;\n",
       "    }\n",
       "</style>\n",
       "<table border=\"1\" class=\"dataframe\">\n",
       "  <thead>\n",
       "    <tr style=\"text-align: right;\">\n",
       "      <th></th>\n",
       "      <th>t</th>\n",
       "    </tr>\n",
       "  </thead>\n",
       "  <tbody>\n",
       "    <tr>\n",
       "      <th>0</th>\n",
       "      <td>20.7</td>\n",
       "    </tr>\n",
       "    <tr>\n",
       "      <th>1</th>\n",
       "      <td>17.9</td>\n",
       "    </tr>\n",
       "    <tr>\n",
       "      <th>2</th>\n",
       "      <td>18.8</td>\n",
       "    </tr>\n",
       "    <tr>\n",
       "      <th>3</th>\n",
       "      <td>14.6</td>\n",
       "    </tr>\n",
       "    <tr>\n",
       "      <th>4</th>\n",
       "      <td>15.8</td>\n",
       "    </tr>\n",
       "  </tbody>\n",
       "</table>\n",
       "</div>"
      ],
      "text/plain": [
       "      t\n",
       "0  20.7\n",
       "1  17.9\n",
       "2  18.8\n",
       "3  14.6\n",
       "4  15.8"
      ]
     },
     "execution_count": 111,
     "metadata": {},
     "output_type": "execute_result"
    }
   ],
   "source": [
    "series = pd.read_csv(file, header=0, index_col=0, \n",
    "                    parse_dates=True).squeeze()\n",
    "df = pd.DataFrame()\n",
    "df['t'] = [series.iloc[i] for i in range(len(series))]\n",
    "df.head()"
   ]
  },
  {
   "cell_type": "code",
   "execution_count": 112,
   "id": "0ec7af11",
   "metadata": {},
   "outputs": [
    {
     "data": {
      "text/html": [
       "<div>\n",
       "<style scoped>\n",
       "    .dataframe tbody tr th:only-of-type {\n",
       "        vertical-align: middle;\n",
       "    }\n",
       "\n",
       "    .dataframe tbody tr th {\n",
       "        vertical-align: top;\n",
       "    }\n",
       "\n",
       "    .dataframe thead th {\n",
       "        text-align: right;\n",
       "    }\n",
       "</style>\n",
       "<table border=\"1\" class=\"dataframe\">\n",
       "  <thead>\n",
       "    <tr style=\"text-align: right;\">\n",
       "      <th></th>\n",
       "      <th>t</th>\n",
       "      <th>MA_min</th>\n",
       "      <th>MA_mean</th>\n",
       "      <th>MA_max</th>\n",
       "    </tr>\n",
       "  </thead>\n",
       "  <tbody>\n",
       "    <tr>\n",
       "      <th>0</th>\n",
       "      <td>20.7</td>\n",
       "      <td>NaN</td>\n",
       "      <td>NaN</td>\n",
       "      <td>NaN</td>\n",
       "    </tr>\n",
       "    <tr>\n",
       "      <th>1</th>\n",
       "      <td>17.9</td>\n",
       "      <td>NaN</td>\n",
       "      <td>NaN</td>\n",
       "      <td>NaN</td>\n",
       "    </tr>\n",
       "    <tr>\n",
       "      <th>2</th>\n",
       "      <td>18.8</td>\n",
       "      <td>NaN</td>\n",
       "      <td>NaN</td>\n",
       "      <td>NaN</td>\n",
       "    </tr>\n",
       "    <tr>\n",
       "      <th>3</th>\n",
       "      <td>14.6</td>\n",
       "      <td>NaN</td>\n",
       "      <td>NaN</td>\n",
       "      <td>NaN</td>\n",
       "    </tr>\n",
       "    <tr>\n",
       "      <th>4</th>\n",
       "      <td>15.8</td>\n",
       "      <td>17.9</td>\n",
       "      <td>19.133333</td>\n",
       "      <td>20.7</td>\n",
       "    </tr>\n",
       "    <tr>\n",
       "      <th>5</th>\n",
       "      <td>15.8</td>\n",
       "      <td>14.6</td>\n",
       "      <td>17.100000</td>\n",
       "      <td>18.8</td>\n",
       "    </tr>\n",
       "    <tr>\n",
       "      <th>6</th>\n",
       "      <td>15.8</td>\n",
       "      <td>14.6</td>\n",
       "      <td>16.400000</td>\n",
       "      <td>18.8</td>\n",
       "    </tr>\n",
       "    <tr>\n",
       "      <th>7</th>\n",
       "      <td>17.4</td>\n",
       "      <td>14.6</td>\n",
       "      <td>15.400000</td>\n",
       "      <td>15.8</td>\n",
       "    </tr>\n",
       "    <tr>\n",
       "      <th>8</th>\n",
       "      <td>21.8</td>\n",
       "      <td>15.8</td>\n",
       "      <td>15.800000</td>\n",
       "      <td>15.8</td>\n",
       "    </tr>\n",
       "    <tr>\n",
       "      <th>9</th>\n",
       "      <td>20.0</td>\n",
       "      <td>15.8</td>\n",
       "      <td>16.333333</td>\n",
       "      <td>17.4</td>\n",
       "    </tr>\n",
       "  </tbody>\n",
       "</table>\n",
       "</div>"
      ],
      "text/plain": [
       "      t  MA_min    MA_mean  MA_max\n",
       "0  20.7     NaN        NaN     NaN\n",
       "1  17.9     NaN        NaN     NaN\n",
       "2  18.8     NaN        NaN     NaN\n",
       "3  14.6     NaN        NaN     NaN\n",
       "4  15.8    17.9  19.133333    20.7\n",
       "5  15.8    14.6  17.100000    18.8\n",
       "6  15.8    14.6  16.400000    18.8\n",
       "7  17.4    14.6  15.400000    15.8\n",
       "8  21.8    15.8  15.800000    15.8\n",
       "9  20.0    15.8  16.333333    17.4"
      ]
     },
     "execution_count": 112,
     "metadata": {},
     "output_type": "execute_result"
    }
   ],
   "source": [
    "lag = 2\n",
    "width = 3\n",
    "df['MA_min'] = df['t'].shift(lag).rolling(width).min()\n",
    "df['MA_mean'] = df['t'].shift(lag).rolling(width).mean()\n",
    "df['MA_max'] = df['t'].shift(lag).rolling(width).max()\n",
    "df.head(10)"
   ]
  },
  {
   "attachments": {
    "image-2.png": {
     "image/png": "[encoded data removed]"
    },
    "image.png": {
     "image/png": "[encoded data removed]"
    }
   },
   "cell_type": "markdown",
   "id": "6b5cc44c",
   "metadata": {},
   "source": [
    "5.7 Expanding Window Statistics\n",
    "---\n",
    "+ Другой тип окна, который может быть полезен, включает все предыдущие данные в серии. \n",
    "+ Это называется расширяющимся окном (**expanding window**) и может помочь отслеживать границы наблюдаемых данных. \n",
    "+ Как и функция **rolling()** в DataFrame, Pandas предоставляет функцию **expanding()**, которая собирает все предыдущие значения для каждого time-step. \n",
    "\n",
    "![image.png](attachment:image.png)\n",
    "\n",
    "Мы должны применить лаг (**shift**) для того чтобы убрать значение, которое мы хотим спрогнозировать (утечеку устранить).\n",
    "\n",
    "Т.е. входно окно значений будет выглядеть следующим образом:\n",
    "\n",
    "![image-2.png](attachment:image-2.png)"
   ]
  },
  {
   "cell_type": "code",
   "execution_count": 115,
   "id": "05d7dfdf",
   "metadata": {},
   "outputs": [
    {
     "name": "stdout",
     "output_type": "stream",
     "text": [
      "Expanding [min_periods=1,axis=0,method=single]\n"
     ]
    },
    {
     "data": {
      "text/plain": [
       "'window'"
      ]
     },
     "metadata": {},
     "output_type": "display_data"
    },
    {
     "data": {
      "text/plain": [
       "None"
      ]
     },
     "metadata": {},
     "output_type": "display_data"
    }
   ],
   "source": [
    "series = pd.read_csv(file, header=0, index_col=0, \n",
    "                    parse_dates=True).squeeze()\n",
    "temps = pd.DataFrame(series.values)\n",
    "window = temps.expanding()\n",
    "\n",
    "display('window', print(window))"
   ]
  },
  {
   "cell_type": "code",
   "execution_count": 117,
   "id": "29bae633",
   "metadata": {},
   "outputs": [
    {
     "data": {
      "text/html": [
       "<div>\n",
       "<style scoped>\n",
       "    .dataframe tbody tr th:only-of-type {\n",
       "        vertical-align: middle;\n",
       "    }\n",
       "\n",
       "    .dataframe tbody tr th {\n",
       "        vertical-align: top;\n",
       "    }\n",
       "\n",
       "    .dataframe thead th {\n",
       "        text-align: right;\n",
       "    }\n",
       "</style>\n",
       "<table border=\"1\" class=\"dataframe\">\n",
       "  <thead>\n",
       "    <tr style=\"text-align: right;\">\n",
       "      <th></th>\n",
       "      <th>min</th>\n",
       "      <th>mean</th>\n",
       "      <th>max</th>\n",
       "      <th>t</th>\n",
       "      <th>t+1</th>\n",
       "    </tr>\n",
       "  </thead>\n",
       "  <tbody>\n",
       "    <tr>\n",
       "      <th>0</th>\n",
       "      <td>20.7</td>\n",
       "      <td>20.700000</td>\n",
       "      <td>20.7</td>\n",
       "      <td>20.7</td>\n",
       "      <td>17.9</td>\n",
       "    </tr>\n",
       "    <tr>\n",
       "      <th>1</th>\n",
       "      <td>17.9</td>\n",
       "      <td>19.300000</td>\n",
       "      <td>20.7</td>\n",
       "      <td>17.9</td>\n",
       "      <td>18.8</td>\n",
       "    </tr>\n",
       "    <tr>\n",
       "      <th>2</th>\n",
       "      <td>17.9</td>\n",
       "      <td>19.133333</td>\n",
       "      <td>20.7</td>\n",
       "      <td>18.8</td>\n",
       "      <td>14.6</td>\n",
       "    </tr>\n",
       "    <tr>\n",
       "      <th>3</th>\n",
       "      <td>14.6</td>\n",
       "      <td>18.000000</td>\n",
       "      <td>20.7</td>\n",
       "      <td>14.6</td>\n",
       "      <td>15.8</td>\n",
       "    </tr>\n",
       "    <tr>\n",
       "      <th>4</th>\n",
       "      <td>14.6</td>\n",
       "      <td>17.560000</td>\n",
       "      <td>20.7</td>\n",
       "      <td>15.8</td>\n",
       "      <td>15.8</td>\n",
       "    </tr>\n",
       "  </tbody>\n",
       "</table>\n",
       "</div>"
      ],
      "text/plain": [
       "    min       mean   max     t   t+1\n",
       "0  20.7  20.700000  20.7  20.7  17.9\n",
       "1  17.9  19.300000  20.7  17.9  18.8\n",
       "2  17.9  19.133333  20.7  18.8  14.6\n",
       "3  14.6  18.000000  20.7  14.6  15.8\n",
       "4  14.6  17.560000  20.7  15.8  15.8"
      ]
     },
     "execution_count": 117,
     "metadata": {},
     "output_type": "execute_result"
    }
   ],
   "source": [
    "dataframe = pd.concat([window.min(), \n",
    "                      window.mean(),\n",
    "                      window.max(), \n",
    "                       temps,\n",
    "                      temps.shift(-1)], axis=1)\n",
    "dataframe.columns = ['min', 'mean', 'max', 't', 't+1']\n",
    "dataframe.head()"
   ]
  },
  {
   "cell_type": "code",
   "execution_count": 120,
   "id": "ac6b65ce",
   "metadata": {},
   "outputs": [
    {
     "data": {
      "text/html": [
       "<div>\n",
       "<style scoped>\n",
       "    .dataframe tbody tr th:only-of-type {\n",
       "        vertical-align: middle;\n",
       "    }\n",
       "\n",
       "    .dataframe tbody tr th {\n",
       "        vertical-align: top;\n",
       "    }\n",
       "\n",
       "    .dataframe thead th {\n",
       "        text-align: right;\n",
       "    }\n",
       "</style>\n",
       "<table border=\"1\" class=\"dataframe\">\n",
       "  <thead>\n",
       "    <tr style=\"text-align: right;\">\n",
       "      <th></th>\n",
       "      <th>t</th>\n",
       "    </tr>\n",
       "  </thead>\n",
       "  <tbody>\n",
       "    <tr>\n",
       "      <th>0</th>\n",
       "      <td>20.7</td>\n",
       "    </tr>\n",
       "    <tr>\n",
       "      <th>1</th>\n",
       "      <td>17.9</td>\n",
       "    </tr>\n",
       "    <tr>\n",
       "      <th>2</th>\n",
       "      <td>18.8</td>\n",
       "    </tr>\n",
       "    <tr>\n",
       "      <th>3</th>\n",
       "      <td>14.6</td>\n",
       "    </tr>\n",
       "    <tr>\n",
       "      <th>4</th>\n",
       "      <td>15.8</td>\n",
       "    </tr>\n",
       "  </tbody>\n",
       "</table>\n",
       "</div>"
      ],
      "text/plain": [
       "      t\n",
       "0  20.7\n",
       "1  17.9\n",
       "2  18.8\n",
       "3  14.6\n",
       "4  15.8"
      ]
     },
     "execution_count": 120,
     "metadata": {},
     "output_type": "execute_result"
    }
   ],
   "source": [
    "series = pd.read_csv(file, header=0, index_col=0, \n",
    "                    parse_dates=True).squeeze()\n",
    "df = pd.DataFrame([series.iloc[i] for i in range(len(series))])\n",
    "df.columns = ['t']\n",
    "df.head()"
   ]
  },
  {
   "cell_type": "code",
   "execution_count": 126,
   "id": "f48fbde7",
   "metadata": {},
   "outputs": [
    {
     "data": {
      "text/html": [
       "<div>\n",
       "<style scoped>\n",
       "    .dataframe tbody tr th:only-of-type {\n",
       "        vertical-align: middle;\n",
       "    }\n",
       "\n",
       "    .dataframe tbody tr th {\n",
       "        vertical-align: top;\n",
       "    }\n",
       "\n",
       "    .dataframe thead th {\n",
       "        text-align: right;\n",
       "    }\n",
       "</style>\n",
       "<table border=\"1\" class=\"dataframe\">\n",
       "  <thead>\n",
       "    <tr style=\"text-align: right;\">\n",
       "      <th></th>\n",
       "      <th>t</th>\n",
       "      <th>min</th>\n",
       "      <th>mean</th>\n",
       "      <th>max</th>\n",
       "    </tr>\n",
       "  </thead>\n",
       "  <tbody>\n",
       "    <tr>\n",
       "      <th>0</th>\n",
       "      <td>20.7</td>\n",
       "      <td>20.7</td>\n",
       "      <td>20.700000</td>\n",
       "      <td>20.7</td>\n",
       "    </tr>\n",
       "    <tr>\n",
       "      <th>1</th>\n",
       "      <td>17.9</td>\n",
       "      <td>17.9</td>\n",
       "      <td>19.300000</td>\n",
       "      <td>20.7</td>\n",
       "    </tr>\n",
       "    <tr>\n",
       "      <th>2</th>\n",
       "      <td>18.8</td>\n",
       "      <td>17.9</td>\n",
       "      <td>19.133333</td>\n",
       "      <td>20.7</td>\n",
       "    </tr>\n",
       "    <tr>\n",
       "      <th>3</th>\n",
       "      <td>14.6</td>\n",
       "      <td>14.6</td>\n",
       "      <td>18.000000</td>\n",
       "      <td>20.7</td>\n",
       "    </tr>\n",
       "    <tr>\n",
       "      <th>4</th>\n",
       "      <td>15.8</td>\n",
       "      <td>14.6</td>\n",
       "      <td>17.560000</td>\n",
       "      <td>20.7</td>\n",
       "    </tr>\n",
       "  </tbody>\n",
       "</table>\n",
       "</div>"
      ],
      "text/plain": [
       "      t   min       mean   max\n",
       "0  20.7  20.7  20.700000  20.7\n",
       "1  17.9  17.9  19.300000  20.7\n",
       "2  18.8  17.9  19.133333  20.7\n",
       "3  14.6  14.6  18.000000  20.7\n",
       "4  15.8  14.6  17.560000  20.7"
      ]
     },
     "execution_count": 126,
     "metadata": {},
     "output_type": "execute_result"
    }
   ],
   "source": [
    "df['min'] = df['t'].expanding().min()\n",
    "df['mean'] = df['t'].expanding().mean()\n",
    "df['max'] = df['t'].expanding().max()\n",
    "df.head()"
   ]
  }
 ],
 "metadata": {
  "kernelspec": {
   "display_name": "Python 3 (ipykernel)",
   "language": "python",
   "name": "python3"
  },
  "language_info": {
   "codemirror_mode": {
    "name": "ipython",
    "version": 3
   },
   "file_extension": ".py",
   "mimetype": "text/x-python",
   "name": "python",
   "nbconvert_exporter": "python",
   "pygments_lexer": "ipython3",
   "version": "3.11.4"
  }
 },
 "nbformat": 4,
 "nbformat_minor": 5
}
